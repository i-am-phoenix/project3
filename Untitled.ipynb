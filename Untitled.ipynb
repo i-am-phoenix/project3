{
 "cells": [
  {
   "cell_type": "code",
   "execution_count": null,
   "metadata": {},
   "outputs": [],
   "source": [
    "import pandas as pd\n",
    "from pprint import pprint as pp\n",
    "import matplotlib.pyplot as plt\n",
    "import math as m"
   ]
  },
  {
   "cell_type": "code",
   "execution_count": null,
   "metadata": {},
   "outputs": [],
   "source": [
    "raw_data = pd.read_csv(\"data/California_Fire_Incidents.csv\")\n",
    "raw_data.head()"
   ]
  },
  {
   "cell_type": "code",
   "execution_count": null,
   "metadata": {},
   "outputs": [],
   "source": [
    "# Output names of all columns\n",
    "for name in raw_data.columns:\n",
    "    print(name);"
   ]
  },
  {
   "cell_type": "code",
   "execution_count": null,
   "metadata": {},
   "outputs": [],
   "source": [
    "# Review all column stats\n",
    "raw_data.describe(include=\"all\")"
   ]
  },
  {
   "cell_type": "code",
   "execution_count": null,
   "metadata": {},
   "outputs": [],
   "source": [
    "# Review only Longitude and Latitude data\n",
    "raw_data[[\"Latitude\", \"Longitude\", \"Location\"]].describe(include=\"all\")"
   ]
  },
  {
   "cell_type": "code",
   "execution_count": null,
   "metadata": {},
   "outputs": [],
   "source": [
    "# Required data cleaning for lattitude\n",
    "# Longitude should be within [-180:180] - raw data range is [-124.196:118.908]\n",
    "# Latitude should be within [-90:90] - raw data range is [-120.258:5487.0000]\n",
    "raw_data.shape # (1636, 40)\n",
    "\n",
    "clean_data_1 = raw_data[((raw_data['Latitude'] > -90) & (raw_data['Latitude'] < 90))]\n",
    "clean_data_1[[\"Latitude\", \"Longitude\", \"Location\"]].describe(include=\"all\")"
   ]
  },
  {
   "cell_type": "code",
   "execution_count": null,
   "metadata": {},
   "outputs": [],
   "source": [
    "plt.figure(figsize=(10,5))\n",
    "plt.scatter(clean_data_1.Latitude, clean_data_1.Longitude)\n",
    "# plt.colorbar()\n",
    "plt.ylabel(\"Longitude, deg\")\n",
    "plt.xlabel(\"Latitude, deg\")\n",
    "plt.title(\"Bubble map of amount of acres burned\")\n",
    "plt.grid(alpha=0.3)"
   ]
  },
  {
   "cell_type": "code",
   "execution_count": null,
   "metadata": {},
   "outputs": [],
   "source": [
    "# Further, if we refer to known lat/lon ranges for california, we need to remove some of the existing\n",
    "# non-California outliers\n",
    "# from https://www.netstate.com/states/geography/ca_geography.html we have \n",
    "#      Longitude: 114° 8' W to 124° 24' W\n",
    "#      Latitude: 32° 30' N to 42° N\n",
    "clean_data_2 = clean_data_1[((clean_data_1['Latitude'] > 32) & (clean_data_1['Latitude'] < 42))]\n",
    "clean_data_3 = clean_data_2[((clean_data_2['Longitude'] < -114) & (clean_data_2['Latitude'] > -124))]\n",
    "print(\"Number of records after Latitude sorting\\t\" + str(clean_data_2.shape))\n",
    "print(\"Number of records after Longitude sorting\\t\" + str(clean_data_3.shape))\n"
   ]
  },
  {
   "cell_type": "code",
   "execution_count": null,
   "metadata": {},
   "outputs": [],
   "source": [
    "plt.figure(figsize=(5,10))\n",
    "plt.scatter(clean_data_3.Latitude, clean_data_3.Longitude)\n",
    "# plt.colorbar()\n",
    "plt.ylabel(\"Longitude, deg\")\n",
    "plt.xlabel(\"Latitude, deg\")\n",
    "plt.title(\"Bubble map of amount of acres burned\")\n",
    "plt.grid(alpha=0.3)"
   ]
  },
  {
   "cell_type": "markdown",
   "metadata": {},
   "source": [
    "### Source California County information from Wikipedia \n",
    "This is done to access listing of all teh counties, as well as their Population and Area data"
   ]
  },
  {
   "cell_type": "code",
   "execution_count": null,
   "metadata": {},
   "outputs": [],
   "source": [
    "# Read in list of California counties from Wikipedia\n",
    "raw_california_counties = pd.read_html(\"https://en.wikipedia.org/wiki/List_of_counties_in_California\")\n",
    "len(raw_california_counties)"
   ]
  },
  {
   "cell_type": "code",
   "execution_count": null,
   "metadata": {},
   "outputs": [],
   "source": [
    "# Separating 2nd rendered table object on the page\n",
    "raw_california_counties[1]\n",
    "# List all available columns\n",
    "raw_california_counties[1].columns"
   ]
  },
  {
   "cell_type": "code",
   "execution_count": null,
   "metadata": {},
   "outputs": [],
   "source": [
    "# Clean California counties data\n",
    "clean_california_counties_1 = raw_california_counties[1]\n",
    "clean_california_counties_1.head()"
   ]
  },
  {
   "cell_type": "code",
   "execution_count": null,
   "metadata": {},
   "outputs": [],
   "source": [
    "clean_california_counties_1.columns=['County', 'FIPS', 'Seat', 'Date_Established', 'FormedFrom',\n",
    "       'Etymology', 'Law','Population_Jul_2019', 'Area', 'Map']\n",
    "clean_california_counties_1.head()"
   ]
  },
  {
   "cell_type": "code",
   "execution_count": null,
   "metadata": {},
   "outputs": [],
   "source": [
    "clean_california_counties_2 = clean_california_counties_1[['County', 'Date_Established','Population_Jul_2019', 'Area']]\n",
    "clean_california_counties_2.head()"
   ]
  },
  {
   "cell_type": "code",
   "execution_count": null,
   "metadata": {},
   "outputs": [],
   "source": [
    "# Remove string \"County\" from the column \"County\"\n",
    "clean_california_counties_2.County = clean_california_counties_2.County.str.replace(\" County\", \"\")\n",
    "clean_california_counties_2.head()"
   ]
  },
  {
   "cell_type": "code",
   "execution_count": null,
   "metadata": {},
   "outputs": [],
   "source": [
    "# split area column into two for diferent units\n",
    "clean_california_counties_2[[\"AreaSqMi\", \"AreaKm2\"]] = clean_california_counties_2.Area.str.split(\"(\",expand=True)\n",
    "print(clean_california_counties_2.columns)\n",
    "#       Drop old Area column\n",
    "clean_california_counties_2 = clean_california_counties_2.drop([\"Area\"], axis=1)\n",
    "clean_california_counties_2.head()"
   ]
  },
  {
   "cell_type": "code",
   "execution_count": null,
   "metadata": {},
   "outputs": [],
   "source": [
    "# Find which special characters are used for spaces in column header \n",
    "clean_california_counties_2.iloc[0,3]\n",
    "clean_california_counties_2.iloc[0,4]"
   ]
  },
  {
   "cell_type": "code",
   "execution_count": null,
   "metadata": {},
   "outputs": [],
   "source": [
    "# Remove unit references from data including using special '\\xa0' combination for blank spaces\n",
    "clean_california_counties_2.AreaSqMi = (clean_california_counties_2.AreaSqMi.str.replace(\"\\xa0sq\\xa0mi\",\"\",regex=False).str.replace(\",\",\"\",regex=False)).astype('int64')\n",
    "clean_california_counties_2.AreaKm2  = (clean_california_counties_2.AreaKm2.str.replace(\"\\xa0km2)\",\"\", regex=False).str.replace(\",\",\"\",regex=False)).astype('int64')\n",
    "clean_california_counties_2.head()"
   ]
  },
  {
   "cell_type": "code",
   "execution_count": null,
   "metadata": {},
   "outputs": [],
   "source": [
    "clean_california_counties_2.describe(include='all')"
   ]
  },
  {
   "cell_type": "code",
   "execution_count": null,
   "metadata": {},
   "outputs": [],
   "source": [
    "# Sort DF by population in descending order to view to 5 most populated counties\n",
    "clean_california_counties_2.sort_values(['Population_Jul_2019'], ascending=False).head()"
   ]
  },
  {
   "cell_type": "code",
   "execution_count": null,
   "metadata": {},
   "outputs": [],
   "source": [
    "# Calculate population density per square mile \n",
    "clean_california_counties_2['PopDensityPerSqMi'] = clean_california_counties_2['Population_Jul_2019']\n",
    "clean_california_counties_2['PopDensityPerSqMi'] = clean_california_counties_2.Population_Jul_2019/clean_california_counties_2.AreaSqMi\n",
    "\n",
    "# Sort DF by population density in descending order to view to 5 most densly populated counties\n",
    "clean_california_counties_2.sort_values(['PopDensityPerSqMi'], ascending=False).head()"
   ]
  },
  {
   "cell_type": "code",
   "execution_count": null,
   "metadata": {},
   "outputs": [],
   "source": [
    "x = clean_california_counties_2.Population_Jul_2019\n",
    "y = clean_california_counties_2.AreaSqMi\n",
    "z = clean_california_counties_2.County\n",
    "size = clean_california_counties_2.PopDensityPerSqMi/10\n",
    "\n",
    "plt.figure(figsize=(15,10))\n",
    "scatter = plt.scatter(x, y, s=size, alpha=0.4, c = \"black\")\n",
    "# produce a legend with a cross section of sizes from the scatter\n",
    "\n",
    "plt.xlabel(\"Population @ Jul'19\")\n",
    "plt.ylabel(\"Area, sq.mi\")\n",
    "plt.grid(alpha=0.3)\n",
    "plt.xscale(\"log\")\n",
    "plt.yscale(\"log\")\n",
    "    \n",
    "handles, labels = scatter.legend_elements(\"sizes\", num=4)\n",
    "legend = plt.legend(handles, labels, \n",
    "           loc = \"lower left\", \n",
    "           title = \"Population Density\\nper sq.mi x 100\", \n",
    "           labelspacing = 3,\n",
    "           handlelength=5,\n",
    "           borderpad = 2)\n",
    "\n",
    "for handle in legend.legendHandles:\n",
    "    handle.set_color('blue')\n",
    "    \n",
    "for i, txt in enumerate(z):\n",
    "    plt.annotate(txt, (x[i], y[i]))\n"
   ]
  },
  {
   "cell_type": "code",
   "execution_count": null,
   "metadata": {},
   "outputs": [],
   "source": [
    "# data from https://www.counties.org/data-and-research, \n",
    "# https://www.counties.org/sites/main/files/file-attachments/datapile_-_headline_datasets_-_current.xlsx\n",
    "\n",
    "raw_california_coucus = pd.read_excel(\"./data/datapile_-_headline_datasets_-_current.xlsx\", sheet_name=\"County & Government\")\n",
    "clean_california_caucus = raw_california_coucus[['County','Caucus']]\n",
    "clean_california_caucus.head()"
   ]
  },
  {
   "cell_type": "code",
   "execution_count": null,
   "metadata": {},
   "outputs": [],
   "source": [
    "# MErge counties data with caucus\n",
    "clean_california_counties_merged = pd.merge(clean_california_counties_2, clean_california_caucus, on='County')\n",
    "clean_california_counties_merged.head()"
   ]
  },
  {
   "cell_type": "code",
   "execution_count": null,
   "metadata": {},
   "outputs": [],
   "source": [
    "clean_california_counties_merged.Caucus.unique()"
   ]
  },
  {
   "cell_type": "code",
   "execution_count": null,
   "metadata": {},
   "outputs": [],
   "source": [
    "# Prep data for plotting input\n",
    "x = clean_california_counties_2.Population_Jul_2019\n",
    "y = clean_california_counties_2.AreaSqMi\n",
    "counties = clean_california_counties_2.County\n",
    "\n",
    "# Define variety of markers to be used \n",
    "shape = [\"o\", \"v\", \"s\"]\n",
    "\n",
    "# Setup figure\n",
    "plt.figure(figsize=(15,10))\n",
    "\n",
    "i=0\n",
    "# Run through each county type\n",
    "for item in clean_california_counties_merged.Caucus.unique():\n",
    "    # Extract data for specific county type     \n",
    "    data = clean_california_counties_merged[clean_california_counties_merged['Caucus'] == item]\n",
    "    \n",
    "    # redefine subsets for coordinates     \n",
    "    x_sub = data.Population_Jul_2019\n",
    "    y_sub = data.AreaSqMi\n",
    "    counties_sub = data.County\n",
    "    \n",
    "    plt.scatter(x_sub, y_sub, \n",
    "        s = 150,\n",
    "        c = data.PopDensityPerSqMi,\n",
    "        cmap = 'jet',\n",
    "        marker = shape[i],\n",
    "        alpha = 0.4, \n",
    "        label = item \n",
    "        )\n",
    "    i+=1\n",
    "# Set up, label and view colorbar\n",
    "cbar = plt.colorbar()\n",
    "cbar.set_label('Population density per 1 sq.mi')\n",
    "\n",
    "#  Set up X, Y axes labels    \n",
    "plt.xlabel(\"Population @ Jul'19\")\n",
    "plt.ylabel(\"Area, sq.mi\")\n",
    "\n",
    "#  Set up legend\n",
    "legend = plt.legend(loc=\"upper left\", fontsize=10, labelspacing=1)\n",
    "\n",
    "# change the marker size manually to amke the same\n",
    "for handle in legend.legendHandles:\n",
    "    handle.set_sizes([100.0])\n",
    "\n",
    "# view grid and set transparency to 30%\n",
    "plt.grid(alpha=0.3)\n",
    "\n",
    "# Change both x and y scales to logarithmic\n",
    "plt.xscale(\"log\")\n",
    "plt.yscale(\"log\")\n",
    "\n",
    "\n",
    "\n",
    "for i, txt in enumerate(counties):\n",
    "    plt.annotate(txt, (x[i]*1.1, y[i]*1.15), fontsize = 10)"
   ]
  },
  {
   "cell_type": "code",
   "execution_count": null,
   "metadata": {},
   "outputs": [],
   "source": []
  },
  {
   "cell_type": "code",
   "execution_count": null,
   "metadata": {},
   "outputs": [],
   "source": []
  }
 ],
 "metadata": {
  "kernelspec": {
   "display_name": "Python [conda env:root] *",
   "language": "python",
   "name": "conda-root-py"
  },
  "language_info": {
   "codemirror_mode": {
    "name": "ipython",
    "version": 3
   },
   "file_extension": ".py",
   "mimetype": "text/x-python",
   "name": "python",
   "nbconvert_exporter": "python",
   "pygments_lexer": "ipython3",
   "version": "3.8.5"
  }
 },
 "nbformat": 4,
 "nbformat_minor": 4
}
